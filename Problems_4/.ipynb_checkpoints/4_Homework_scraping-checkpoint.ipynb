{
 "cells": [
  {
   "cell_type": "markdown",
   "metadata": {},
   "source": [
    "### Центр непрерывного образования\n",
    "# Программа «Python для автоматизации и анализа данных»¶\n",
    "\n",
    "Лабораторная/Домашняя работа # 3  \n",
    "Автор: Михаил Густокашин\n",
    "\n",
    "#### Disclaimer\n",
    "В некоторых заданиях нужно считывать файлы и записывать ответ в файл. Пожалуйста, читайте файлы из той же папки, где лежит блокнот (не прописывайте к ним полный путь) или загружайте файл по ссылке. Файл с ответом нужно вложить в архив с блокнотом и архив добавить в Dropbox.\n",
    "\n",
    "Всего можно набрать 12 баллов, максимальная оценка за работу - 10."
   ]
  },
  {
   "cell_type": "markdown",
   "metadata": {},
   "source": [
    "### Задание 1. Скрейпинг cтраницы (1 балл)\n",
    "\n",
    "Мы сохранили страницу с википедии про языки программирования и сохранили по адресу https://stepik.org/media/attachments/lesson/209717/1.html\n",
    "Скачайте её с помощью скрипта на Питоне и посчитайте, какой язык упоминается чаще Python или C++ (ответ должен быть одной из этих двух строк). Необходимо просто подсчитать количество вхождений слова Python или C++ как подстроки. Тут не нужно пользоваться парсингом и bs, работайте со строками."
   ]
  },
  {
   "cell_type": "code",
   "execution_count": 210,
   "metadata": {
    "scrolled": true
   },
   "outputs": [
    {
     "name": "stdout",
     "output_type": "stream",
     "text": [
      "20\n"
     ]
    }
   ],
   "source": [
    "# ваше решение здесь\n",
    "\n",
    "import requests\n",
    "import re\n",
    "\n",
    "link = 'https://stepik.org/media/attachments/lesson/209717/1.html'\n",
    "link_t = requests.get(link).text\n",
    "a = re.findall(r'(Python)|(C\\+\\+)', link_t)\n",
    "print(len(a))"
   ]
  },
  {
   "cell_type": "markdown",
   "metadata": {},
   "source": [
    "### Задание 2. Автоматизируем написание html скрипта (2 балла)\n",
    "В этой задаче вам необходимо научиться генерировать html-код на питоне и сдать на проверку html-файл, в котором будет таблица размером 10 на 10, которая должна содержать таблицу умножения для чисел от 1 до 10. При открытии вашего файла в браузере это должно выглядеть примерно так:\n",
    "\n",
    "![](table.jpg)\n",
    "\n",
    "```\n",
    "1. Ваш файл должен начинаться с тегов <html> и <body> и заканчиваться </body> и </html>.\n",
    "2. Для создания таблицы можно пользоваться тегами <table> (создание таблицы), \n",
    "<tr> (создание строки в таблице) и <td> (создание отдельной ячейки). \n",
    "Все открытые теги нужно закрыть, причем сделать это нужно в правильном порядке.\n",
    "3. Пожалуйста, не используйте никаких украшений и других тегов.\n",
    "```\n",
    "Ниже напишите код, который генерирует html и записывает его в файл, и приложите к архиву с вашим блокнотом файл **output2.html**\n"
   ]
  },
  {
   "cell_type": "code",
   "execution_count": 67,
   "metadata": {},
   "outputs": [],
   "source": [
    "# ваше решение здесь\n",
    "\n",
    "from bs4 import BeautifulSoup\n",
    "import os\n",
    "\n",
    "os.getcwd()\n",
    "\n",
    "\n",
    "with open(\"output2.html\", \"w\") as outf:\n",
    "    soup1 = '''\n",
    "    <html>\\n <body>\\n  <table>\\n   <tr>\\n\n",
    "                    '''\n",
    "    soup2 = '''\n",
    "        </tr>\\n   </table>\\n  </body>\\n</html>\n",
    "    '''\n",
    "    \n",
    "    soup = ''\n",
    "    temp_out = []\n",
    "    s = ''\n",
    "    html_inner = \"\"\n",
    "    count = 0 \n",
    "    \n",
    "    # ряд 10 раз\n",
    "    for m in range(1,11):\n",
    "        temp_out.append('<tr>')\n",
    "        \n",
    "        \n",
    "        # ячейка 10*10 раз\n",
    "        for y in range(1,11):\n",
    "            for x in range(1,11):\n",
    "                count += 1\n",
    "                if x == count:\n",
    "                    temp = (f'<td>{x*y}</td>')\n",
    "                    s = s + temp\n",
    "                else: \n",
    "                    continue\n",
    "\n",
    "        temp_out.append(s)\n",
    "        \n",
    "        # ряд 10 раз\n",
    "        temp_out.append('</tr>')\n",
    "    \n",
    "    # делаем строку из списка\n",
    "    for i in temp_out:\n",
    "        html_inner = html_inner + i\n",
    "\n",
    "    soup = soup1 + html_inner + soup2\n",
    "    outf.write(str(soup))\n",
    "    \n",
    "# осталось исправить if"
   ]
  },
  {
   "cell_type": "markdown",
   "metadata": {},
   "source": [
    "### Задание 3. Скрэйпинг ссылок (2 балла)\n",
    "\n",
    "*1 балл*  \n",
    "Мы сохранили статью с википедии, она доступна по ссылке https://stepik.org/media/attachments/lesson/258943/Moscow.html\n",
    "\n",
    "Вам необходимо обработать ее с помощью BeautifulSoup и подсчитать все внутренние ссылки, которые не содержат в себе двоеточия (не являются ссылкой на техническую статью в википедии) и не начинаются с символа #.\n",
    "\n",
    "Под ссылкой понимается содержимое аттрибута href тега a. Ссылка называется внешней, если она ведет на другой сайт (т.е. начинается с http:// или https://). Все остальные ссылки являются внутренними.\n",
    "Вам могут быть полезны методы find_all для супа (он позволяет найти все теги на странице), метод has_attr для тега (проверяет есть ли такой атрибут у тега) и доступ к атрибуту тега по аналогии со словарем.\n",
    "В качестве ответа выведите количество внутренних ссылок, удовлетворяющих условию.\n",
    "\n",
    "*1 балл*  \n",
    "В этой задаче достаточно обернуть в функцию то, что делает предыдущая и вызвать подсчет числа внутренних ссылок для двух статей: https://stepik.org/media/attachments/lesson/258943/Moscow.html и https://stepik.org/media/attachments/lesson/258944/New-York.html\n",
    "В качестве ответа на задачу выведите два числа через пробел.\n"
   ]
  },
  {
   "cell_type": "code",
   "execution_count": 2,
   "metadata": {},
   "outputs": [],
   "source": [
    "# Ваше решение здесь\n",
    "\n",
    "from bs4 import BeautifulSoup\n",
    "import requests\n",
    "\n",
    "def inner_links_count(link):\n",
    "\n",
    "    l = requests.get(link).text\n",
    "    link_t = BeautifulSoup(l, 'lxml')\n",
    "    link_t.prettify()\n",
    "    all_links = []\n",
    "    inner_links = []\n",
    "    for a in link_t.find_all('a', href=True):\n",
    "        all_links = a['href']\n",
    "        if all_links.startswith('https://'):\n",
    "            continue\n",
    "        elif all_links.startswith('http://'):\n",
    "            continue\n",
    "        elif all_links.startswith('#'):\n",
    "            continue \n",
    "        elif (':') in all_links:\n",
    "            continue\n",
    "        else:\n",
    "            inner_links.append(a.text.strip())\n",
    "            a.prettify()\n",
    "    return print(len(inner_links))"
   ]
  },
  {
   "cell_type": "code",
   "execution_count": 3,
   "metadata": {},
   "outputs": [
    {
     "name": "stdout",
     "output_type": "stream",
     "text": [
      "1991\n",
      "3207\n"
     ]
    }
   ],
   "source": [
    "# ваше решние здесь\n",
    "\n",
    "inner_links_count(\"https://stepik.org/media/attachments/lesson/258943/Moscow.html\")\n",
    "\n",
    "inner_links_count(\"https://stepik.org/media/attachments/lesson/258944/New-York.html\")"
   ]
  },
  {
   "cell_type": "markdown",
   "metadata": {},
   "source": [
    "### Задание 4. Скрейпинг таблицы (2 балла)\n",
    "\n",
    "В файле https://stepik.org/media/attachments/lesson/209723/3.html находится одна таблица. Просуммируйте все числа в ней и введите в качестве ответа одно число - эту сумму. Для доступа к ячейкам используйте возможности BeautifulSoup.\n"
   ]
  },
  {
   "cell_type": "code",
   "execution_count": 3,
   "metadata": {},
   "outputs": [
    {
     "name": "stdout",
     "output_type": "stream",
     "text": [
      "1005425\n"
     ]
    }
   ],
   "source": [
    "from bs4 import BeautifulSoup\n",
    "import requests\n",
    "\n",
    "\n",
    "link = 'https://stepik.org/media/attachments/lesson/209723/3.html'\n",
    "l = requests.get(link).text\n",
    "link_t = BeautifulSoup(l, 'lxml')\n",
    "link_t.prettify()\n",
    "\n",
    "summ = 0 \n",
    "for a in link_t.find_all('td'):\n",
    "    summ += int(a.text.strip())\n",
    "print(summ)"
   ]
  },
  {
   "cell_type": "markdown",
   "metadata": {},
   "source": [
    "# Задание 5. Зарплата (1.5 балла)\n",
    "\n",
    "Главный бухгалтер компании \"Рога и копыта\" случайно удалил ведомость с начисленной зарплатой. К счастью, у него сохранились расчётные листки всех сотрудников. Помогите по этим расчётным листкам восстановить зарплатную ведомость. Архив с расчётными листками доступен по ссылке https://github.com/pileyan/DPO_Python_v2/tree/master/Problems_4/rogaikopyta.zip(вы можете скачать и распаковать его вручную или самостоятельно научиться делать это с помощью скрипта на Питоне (например, вот a для zip как раз есть https://docs.python.org/3/library/zipfile.html ).\n",
    "\n",
    "Ведомость должна содержать 1000 строк, в каждой строке должно быть указано ФИО сотрудника и, через пробел, его зарплата. Сотрудники должны быть упорядочены по алфавиту. Сохраните ответ в файл и приложите его к архиву с решениями.\n",
    "\n",
    "**Ответ: файл output5.txt**\n"
   ]
  },
  {
   "cell_type": "code",
   "execution_count": 15,
   "metadata": {},
   "outputs": [],
   "source": [
    "# ваше решение здесь\n",
    "\n",
    "import requests \n",
    "from bs4 import BeautifulSoup\n",
    "from openpyxl import load_workbook\n",
    "import operator\n",
    "\n",
    "\n",
    "with open(\"output5.txt\", \"w\") as outf:\n",
    "    temp_link1 = 'C:\\\\Users\\\\Рома\\\\Documents\\\\Code\\\\ProjectsPython\\\\homeworks\\\\Problems_4\\\\rogaikopita'\n",
    "    st_l = dict()\n",
    "    for i in range(1,1001):\n",
    "        temp_link2 = \"\\\\\" + str(i) + \".xlsx\"\n",
    "        link = temp_link1 + temp_link2\n",
    "        workbook = load_workbook(filename=link)\n",
    "        sheet = workbook.active\n",
    "        st_l[str(sheet.cell(row=2, column=2).value)] = str(sheet.cell(row=2, column=4).value)\n",
    "\n",
    "    sorted_st_l = sorted(st_l.items(), key=operator.itemgetter(0))\n",
    "    for i in sorted_st_l:\n",
    "        l = (i[0]+ \" \" + i[1] + \"\\n\")\n",
    "        outf.write(l)\n"
   ]
  },
  {
   "cell_type": "markdown",
   "metadata": {},
   "source": [
    "# Задание 6. Медиана (2 балла)\n",
    "\n",
    "Вася планирует карьеру и переезд. Для это составил таблицу, в которой для каждого региона записал зарплаты для разных интересные ему профессий. Таблица доступна по ссылке https://github.com/pileyan/DPO_Python_v2/tree/master/Problems_4/salaries.xlsx. Выведите название региона с самой высокой медианной зарплатой (медианой называется элемент, стоящий в середине массива после его упорядочивания) и, через пробел, название профессии с самой высокой средней зарплатой по всем регионам."
   ]
  },
  {
   "cell_type": "code",
   "execution_count": 128,
   "metadata": {},
   "outputs": [],
   "source": [
    "# решение 1 через openpyxl. Можно было использовать openpyxl только для считывания данных\n",
    "# и операции по нахождению медианы делать уже с помощью средств python"
   ]
  },
  {
   "cell_type": "code",
   "execution_count": 129,
   "metadata": {},
   "outputs": [],
   "source": [
    "# решение 2 – набить нужных формул в Openpyxl :)\n",
    "# перед тем, как запускать ячейку нужно открыть файл test.xlsx в excel и сохранить его \n",
    "# это связано с тем, что openpyxl не может выполнить расчетов формул\n",
    "# нам нужно, чтобы расчеты сохранились в кэше, тогда сможем их достать\n",
    "# есть другие библиотеки, которую позволяют обходить эту проблему элегантней"
   ]
  },
  {
   "cell_type": "code",
   "execution_count": 512,
   "metadata": {},
   "outputs": [
    {
     "name": "stdout",
     "output_type": "stream",
     "text": [
      "244784.75\n"
     ]
    },
    {
     "ename": "KeyError",
     "evalue": "0",
     "output_type": "error",
     "traceback": [
      "\u001b[1;31m---------------------------------------------------------------------------\u001b[0m",
      "\u001b[1;31mKeyError\u001b[0m                                  Traceback (most recent call last)",
      "\u001b[1;32m<ipython-input-512-97c16fccbc84>\u001b[0m in \u001b[0;36m<module>\u001b[1;34m\u001b[0m\n\u001b[0;32m     93\u001b[0m \u001b[1;32mfor\u001b[0m \u001b[0mi\u001b[0m \u001b[1;32min\u001b[0m \u001b[0mm\u001b[0m\u001b[1;33m:\u001b[0m\u001b[1;33m\u001b[0m\u001b[1;33m\u001b[0m\u001b[0m\n\u001b[0;32m     94\u001b[0m     \u001b[1;32mfor\u001b[0m \u001b[0my\u001b[0m \u001b[1;32min\u001b[0m \u001b[0mrange\u001b[0m\u001b[1;33m(\u001b[0m\u001b[1;36m8\u001b[0m\u001b[1;33m)\u001b[0m\u001b[1;33m:\u001b[0m\u001b[1;33m\u001b[0m\u001b[1;33m\u001b[0m\u001b[0m\n\u001b[1;32m---> 95\u001b[1;33m         \u001b[0mn\u001b[0m\u001b[1;33m[\u001b[0m\u001b[0mn\u001b[0m\u001b[1;33m[\u001b[0m\u001b[0my\u001b[0m\u001b[1;33m]\u001b[0m\u001b[1;33m]\u001b[0m \u001b[1;33m=\u001b[0m \u001b[0mi\u001b[0m\u001b[1;33m\u001b[0m\u001b[1;33m\u001b[0m\u001b[0m\n\u001b[0m\u001b[0;32m     96\u001b[0m \u001b[0mprint\u001b[0m\u001b[1;33m(\u001b[0m\u001b[0mn\u001b[0m\u001b[1;33m)\u001b[0m\u001b[1;33m\u001b[0m\u001b[1;33m\u001b[0m\u001b[0m\n",
      "\u001b[1;31mKeyError\u001b[0m: 0"
     ]
    }
   ],
   "source": [
    "import requests \n",
    "from bs4 import BeautifulSoup\n",
    "from openpyxl import load_workbook\n",
    "\n",
    "\n",
    "link = 'https://github.com/pileyan/DPO_Python_v2/tree/master/Problems_4/salaries.xlsx'\n",
    "workbook = load_workbook(filename=\"salaries.xlsx\")\n",
    "sheet = workbook.active\n",
    "\n",
    "\n",
    "# вспомогательно\n",
    "# print('колонка А', sheet[2][0].value)\n",
    "# print('колонка B', sheet[2][1].value)\n",
    "r_qty = len(sheet[\"A\"])-1\n",
    "c_qty = len(sheet[\"1\"])-1\n",
    "\n",
    "\n",
    "# регионы\n",
    "mid_prof = dict()\n",
    "\n",
    "region_l = []\n",
    "\n",
    "for y in sheet.iter_cols(min_row=2,\n",
    "                         max_row=r_qty,\n",
    "                              min_col=1,\n",
    "                         max_col=1,\n",
    "                              values_only=True):\n",
    "    region_l.append(y)\n",
    "\n",
    "\n",
    "\n",
    "\n",
    "prof_l = []\n",
    "\n",
    "for x in sheet.iter_rows(min_row=2,\n",
    "                         max_row=r_qty,\n",
    "                              min_col=2,\n",
    "                         max_col=c_qty,\n",
    "                              values_only=True):\n",
    "    prof_l.append(x)\n",
    "\n",
    "\n",
    "for i in range(c_qty):\n",
    "    mid_prof[region_l[0][i]] = prof_l[i]\n",
    "\n",
    "# print(mid_prof)\n",
    "\n",
    "#ind_sal = int((len(zp_l_sorted[0])/2+0.5))\n",
    "#average[y[0]] = int(zp_l_sorted[ind_sal])\n",
    "#for i in range(len(mid_prof)-1):\n",
    "#print(average)\n",
    "\n",
    "\n",
    "\n",
    "# професиии и зп\n",
    "\n",
    "avg_sal = dict()\n",
    "# ключи\n",
    "prof_r = []\n",
    "for x in sheet.iter_cols(min_row=1,\n",
    "                         max_row=1,\n",
    "                              min_col=2,\n",
    "                         max_col=c_qty,\n",
    "                              values_only=True):\n",
    "    prof_r.append(x)\n",
    "prof_list = []\n",
    "for i in prof_r:\n",
    "    prof_list.append(i[0])\n",
    "\n",
    "    \n",
    "# значения\n",
    "sal_temp = []\n",
    "for x in sheet.iter_cols(min_row=2,\n",
    "                         max_row=r_qty,\n",
    "                              min_col=2,\n",
    "                         max_col=c_qty,\n",
    "                              values_only=True):\n",
    "    sal_temp.append(x)\n",
    "sal_list = []\n",
    "for i in sal_temp:\n",
    "    sal_list.append(i)    \n",
    "\n",
    "for i in range(7):\n",
    "    avg_sal[prof_list[i]] = sal_list[i]\n",
    "\n",
    "# print(avg_sal)\n",
    "# осталось рассчитать ср и медиану"
   ]
  },
  {
   "cell_type": "markdown",
   "metadata": {},
   "source": [
    "# Задание 7. Вася-завхоз (1.5 балла)\n",
    "\n",
    "Васю назначили завхозом в туристической группе и он подошёл к подготовке ответственно, составив справочник продуктов с указанием калорийности на 100 грамм, а также содержание белков, жиров и углеводов на 100 грамм продукта. Ему не удалось найти всю информацию, поэтому некоторые ячейки остались незаполненными (можно считать их значение равным нулю). Также он использовал какой-то странный офисный пакет и разделял целую и дробную часть чисел запятой. Таблица доступна по ссылке https://github.com/pileyan/DPO_Python_v2/tree/master/Problems_4/trekking1.xlsx\n",
    "Вася хочет минимизировать вес продуктов и для этого брать самые калорийные продукты. Помогите ему и упорядочите продукты по убыванию калорийности. В случае, если продукты имеют одинаковую калорийность - упорядочите их по названию. \n",
    "\n",
    "В качестве ответа необходимо вывести названия продуктов, по одному в строке.\n"
   ]
  },
  {
   "cell_type": "code",
   "execution_count": 228,
   "metadata": {},
   "outputs": [
    {
     "name": "stdout",
     "output_type": "stream",
     "text": [
      "Шоколад молочный какао\n",
      "Шоколад молочный миндаль\n",
      "Сухофрукты\n",
      "Омлет с копченостями галагала\n",
      "Свинина сублимрованная\n",
      "Шоколад ремесленный\n",
      "Козинак подсолнечный\n",
      "Омлет с грибами галагала\n",
      "Козинак арахисовый\n",
      "Хлебцы льняные \"Тайские\"\n",
      "Колбаса с/к \"Еврейская полусухая\"\n",
      "Говядина сублимрованная\n",
      "Сухарики ржаные с семечками\n",
      "Хлебцы льняные Морские\n",
      "Суп гороховый с копченостями\n",
      "Суп куриный с картофелем галагала\n",
      "Суп говяжий с картофелем галагала\n",
      "Суп гороховый с копченостями галагала\n",
      "Суп-гуляш галагала\n",
      "Сыр Маасдам\n",
      "Суп-харчо \"Острый\"\n",
      "Сыр Чеддер\n",
      "Крупа гречневая\n",
      "Борщ Московский Галагала\n",
      "Рис пропаренный Увелка\n",
      "Свинина Кронидов\n",
      "Сухарики ржаные Finn Crisp\n",
      "Капеллини Макфа\n",
      "Сыр Гауда\n",
      "Кус Кус\n",
      "Каша Быстров\n",
      "Картофель сушеный\n",
      "Говядина Кронидов\n",
      "Хлебцы с чесноком и луком\n",
      "Суп томатный с рисом\n",
      "Балык \"Королевский\"\n",
      "Паутина\n"
     ]
    }
   ],
   "source": [
    "# ваше решение здесь\n",
    "\n",
    "import requests \n",
    "from bs4 import BeautifulSoup\n",
    "from openpyxl import load_workbook\n",
    "\n",
    "link = 'https://github.com/pileyan/DPO_Python_v2/tree/master/Problems_4/trekking1.xlsx'\n",
    "send_request = requests.get(link)\n",
    "workbook = load_workbook(filename=\"trekking1.xlsx\")\n",
    "sheet = workbook.active\n",
    "\n",
    "\n",
    "\n",
    "products = dict()\n",
    "\n",
    "# print('колонка А', sheet[2][0].value)\n",
    "# print('колонка B', sheet[2][1].value)\n",
    "\n",
    "for prod in sheet.iter_cols(min_row=1,\n",
    "                              min_col=1,\n",
    "                              values_only=True):\n",
    "    for i in range(2,(len(sheet[\"A\"]))+1):\n",
    "        products[sheet[i][0].value] = sheet[i][1].value\n",
    "\n",
    "sorted_products = dict()\n",
    "\n",
    "for i,y in products.items():\n",
    "    float(y)\n",
    "\n",
    "list_d = list(products.items())\n",
    "list_d.sort(key=lambda i: i[1], reverse=True)\n",
    "for i in list_d:\n",
    "    sorted_products[i[0]] = i[1]\n",
    "for i in sorted_products.items():\n",
    "    print(i[0])\n",
    "    \n",
    "# осталась сортировка по алфавиту при дублях калорийности"
   ]
  },
  {
   "cell_type": "code",
   "execution_count": null,
   "metadata": {},
   "outputs": [],
   "source": []
  }
 ],
 "metadata": {
  "kernelspec": {
   "display_name": "Python 3",
   "language": "python",
   "name": "python3"
  },
  "language_info": {
   "codemirror_mode": {
    "name": "ipython",
    "version": 3
   },
   "file_extension": ".py",
   "mimetype": "text/x-python",
   "name": "python",
   "nbconvert_exporter": "python",
   "pygments_lexer": "ipython3",
   "version": "3.7.6"
  }
 },
 "nbformat": 4,
 "nbformat_minor": 2
}
